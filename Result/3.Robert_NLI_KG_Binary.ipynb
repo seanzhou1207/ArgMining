{
 "cells": [
  {
   "cell_type": "code",
   "execution_count": 911,
   "metadata": {},
   "outputs": [],
   "source": [
    "import torch\n",
    "import pandas as pd\n",
    "from torch import nn\n",
    "from torch.utils.data import DataLoader, TensorDataset\n",
    "import numpy as np\n",
    "from sklearn.metrics import f1_score\n",
    "import torch.nn.functional as F\n"
   ]
  },
  {
   "cell_type": "code",
   "execution_count": 912,
   "metadata": {},
   "outputs": [],
   "source": [
    "train = pd.read_csv(\"../Data/TaskA_train_neural_kg.csv\", index_col=0)\n",
    "test = pd.read_pickle(\"../Data/TaskA_test_neural_kg.pkl\")"
   ]
  },
  {
   "cell_type": "code",
   "execution_count": 913,
   "metadata": {},
   "outputs": [],
   "source": [
    "# Get 50-50 split\n",
    "n_half = int((len(train) + len(test))*0.5)\n",
    "\n",
    "test_set_new = train.sample(n=len(train)-n_half, random_state=42)\n",
    "\n",
    "# Drop the selected rows from the original dataframe to update the training set\n",
    "train = train.drop(test_set_new.index)\n",
    "test = pd.concat([test, test_set_new])"
   ]
  },
  {
   "cell_type": "code",
   "execution_count": 914,
   "metadata": {},
   "outputs": [],
   "source": [
    "# Only predicting validity\n",
    "X_train = train.loc[:, [\"topic\", \"Premise\", \"Conclusion\", \"SBERT_premise\", \"SBERT_conclusion\", \"SBERT_cosine_sim\", \"Irrelevancy\", \"Validity-Confidence\"]]\n",
    "                        #, \"Novelty-Confidence\"]]\n",
    "y_train = train.loc[:, \"Validity\"]\n",
    "X_test = test.loc[:, [\"topic\", \"Premise\", \"Conclusion\", \"SBERT_premise\", \"SBERT_conclusion\", \"SBERT_cosine_sim\", \"Irrelevancy\", \"Validity-Confidence\", ]]\n",
    "                      #\"Novelty-Confidence\"]]\n",
    "y_test = test.loc[:, \"Validity\"]"
   ]
  },
  {
   "cell_type": "code",
   "execution_count": 929,
   "metadata": {},
   "outputs": [],
   "source": [
    "def str_to_list(text):\n",
    "    '''\n",
    "    Return tensor string into list\n",
    "    '''\n",
    "    # clean string\n",
    "    clean_str = text.replace('tensor(', '').replace(')', '').strip()\n",
    "    # convert to list\n",
    "    tensor = eval(clean_str, {\"torch\": torch, \"__builtins__\": {}})\n",
    "    return tensor\n",
    "\n",
    "def process_covariate_data(df):\n",
    "    '''\n",
    "    Expanding all tensors in a single cell\n",
    "    Make confidence into ordinal variables\n",
    "    '''\n",
    "    # convert str to tensor (list)\n",
    "    SBERT_premise = df.SBERT_premise.apply(lambda x: str_to_list(x))\n",
    "    SBERT_conclusion = df.SBERT_conclusion.apply(lambda x: str_to_list(x))\n",
    "\n",
    "    # expand the list into individual entries\n",
    "    df_expand1 = SBERT_premise.apply(pd.Series)\n",
    "    df_expand2 = SBERT_conclusion.apply(pd.Series)\n",
    "\n",
    "    # assign a meaningful name\n",
    "    df_expand1.columns = ['pre_emb{}'.format(i+1) for i in range(df_expand1.shape[1])]\n",
    "    df_expand2.columns = ['con_emb{}'.format(i+1) for i in range(df_expand2.shape[1])]\n",
    "\n",
    "    # convert confidence into ordinal variable\n",
    "    confidence_mapping = {\n",
    "        'very confident': 3,\n",
    "        'confident': 2,\n",
    "        'majority': 1,\n",
    "        'defeasible': 0\n",
    "    }\n",
    "    df['Validity-Confidence'] = df['Validity-Confidence'].replace(confidence_mapping)\n",
    "    #df[\"Novelty-Confidence\"] = df['Novelty-Confidence'].replace(confidence_mapping)\n",
    "\n",
    "    # put everything together\n",
    "    df_final = pd.concat([df.drop(['SBERT_premise', \"SBERT_conclusion\"], axis=1), df_expand1, df_expand2], axis=1)\n",
    "    return df_final\n",
    "\n",
    "def preprocess_input(x, y):\n",
    "    '''\n",
    "    return DataLoader for later input into the model\n",
    "    '''\n",
    "    # pd.dataframe to array\n",
    "    x = np.array(x, dtype=np.float64)\n",
    "    y = np.array(y, dtype=np.float64)\n",
    "    # transform y for nn model\n",
    "    # assume a value of 0 is not valid/novel\n",
    "    y[y == -1] = 0\n",
    "\n",
    "    # array to tensor\n",
    "    x_torch = torch.tensor(x)\n",
    "    y_torch = torch.tensor(y)\n",
    "    data = TensorDataset(x_torch, y_torch)\n",
    "\n",
    "    batch_size = 32\n",
    "    loader = DataLoader(data, batch_size=batch_size, shuffle=True)\n",
    "    return loader\n",
    "\n",
    "class SimpleNN(nn.Module):\n",
    "    def __init__(self):\n",
    "        super(SimpleNN, self).__init__()\n",
    "        self.input_dim = 1542\n",
    "        self.hidden_dim = 30\n",
    "        self.output_dim = 4\n",
    "        self.fc1 = nn.Linear(self.input_dim, self.hidden_dim)  # Assuming n input features\n",
    "        self.bn1 = nn.BatchNorm1d(self.hidden_dim)  # Batch normalization layer\n",
    "        #self.dropout1 = nn.Dropout(0.1)\n",
    "        self.fc2 = nn.Linear(self.hidden_dim, self.output_dim)  # Outputs 4 values, one for each output column\n",
    "        self.softmax = nn.Softmax(dim=1)\n",
    "    def forward(self, x):\n",
    "        x = x.float()\n",
    "        x = torch.relu(self.bn1(self.fc1(x)))\n",
    "        #x = self.dropout1(x)\n",
    "        x = self.fc2(x)\n",
    "        x = self.softmax(x)\n",
    "        return x\n",
    "    \n",
    "\n",
    "class BinaryClassifier(nn.Module):\n",
    "    def __init__(self):\n",
    "        super(BinaryClassifier, self).__init__()\n",
    "        self.layer1 = nn.Linear(1539, 64)\n",
    "        self.relu1 = nn.ReLU()\n",
    "        self.dropout1 = nn.Dropout(0.5)\n",
    "        #self.layer2 = nn.Linear(512, 256)\n",
    "        #self.relu2 = nn.ReLU()\n",
    "        #self.dropout2 = nn.Dropout(0.5)\n",
    "        #self.layer3 = nn.Linear(256, 128)\n",
    "        #self.relu3 = nn.ReLU()\n",
    "        #self.dropout3 = nn.Dropout(0.5)\n",
    "        self.output = nn.Linear(64, 1)\n",
    "        self.sigmoid = nn.Sigmoid()\n",
    "\n",
    "    def forward(self, x):\n",
    "        x = self.layer1(x)\n",
    "        x = self.relu1(x)\n",
    "        x = self.dropout1(x)\n",
    "        #x = self.layer2(x)\n",
    "        #x = self.relu2(x)\n",
    "        #x = self.dropout2(x)\n",
    "        #x = self.layer3(x)\n",
    "        #x = self.relu3(x)\n",
    "        #x = self.dropout3(x)\n",
    "        x = self.output(x)\n",
    "        x = self.sigmoid(x)\n",
    "        return x\n",
    "\n",
    "model = BinaryClassifier()\n"
   ]
  },
  {
   "cell_type": "code",
   "execution_count": 930,
   "metadata": {},
   "outputs": [],
   "source": [
    "X_train1 = process_covariate_data(X_train)\n",
    "X_test1 = process_covariate_data(X_test)"
   ]
  },
  {
   "cell_type": "code",
   "execution_count": 931,
   "metadata": {},
   "outputs": [],
   "source": [
    "train_loader = preprocess_input(X_train1.iloc[:, 3:], y_train)\n",
    "test_loader = preprocess_input(X_test1.iloc[:, 3:], y_test)"
   ]
  },
  {
   "cell_type": "code",
   "execution_count": 932,
   "metadata": {
    "tags": []
   },
   "outputs": [],
   "source": [
    "model = BinaryClassifier()\n",
    "loss_function = nn.BCELoss()\n",
    "optimizer = torch.optim.Adam(model.parameters(), lr=0.01)"
   ]
  },
  {
   "cell_type": "code",
   "execution_count": 933,
   "metadata": {
    "tags": []
   },
   "outputs": [
    {
     "name": "stdout",
     "output_type": "stream",
     "text": [
      "Epoch 1, Loss: 0.56232750415802\n",
      "Accuracy: 55.16074450084602%\n",
      "Epoch 6, Loss: 0.45437857508659363\n",
      "Accuracy: 75.80372250423012%\n",
      "Epoch 11, Loss: 0.25783854722976685\n",
      "Accuracy: 84.0947546531303%\n",
      "Epoch 16, Loss: 0.4340305030345917\n",
      "Accuracy: 84.4331641285956%\n",
      "Epoch 21, Loss: 0.23443622887134552\n",
      "Accuracy: 87.30964467005076%\n",
      "Epoch 26, Loss: 0.22087310254573822\n",
      "Accuracy: 85.78680203045685%\n",
      "Epoch 31, Loss: 0.21122080087661743\n",
      "Accuracy: 88.3248730964467%\n",
      "Epoch 36, Loss: 0.352852463722229\n",
      "Accuracy: 89.5093062605753%\n",
      "Epoch 41, Loss: 0.24773910641670227\n",
      "Accuracy: 90.52453468697124%\n",
      "Epoch 46, Loss: 0.009789255447685719\n",
      "Accuracy: 91.37055837563452%\n",
      "Epoch 51, Loss: 0.10190202295780182\n",
      "Accuracy: 89.5093062605753%\n",
      "Epoch 56, Loss: 0.04863359034061432\n",
      "Accuracy: 90.52453468697124%\n"
     ]
    }
   ],
   "source": [
    "epochs = 60\n",
    "for epoch in range(epochs):\n",
    "    # for each batch\n",
    "    model.train()  # Set model to training mode\n",
    "    total = 0\n",
    "    correct = 0\n",
    "    total_loss = 0\n",
    "    \n",
    "    all_preds = []\n",
    "    all_labels = []\n",
    "\n",
    "    for inputs, targets in train_loader:\n",
    "        inputs = inputs.float()\n",
    "        targets = targets.float()\n",
    "        optimizer.zero_grad()\n",
    "        outputs = model(inputs)\n",
    "        outputs = outputs.squeeze()  # Squeeze the outputs to remove the extra dimension\n",
    "        loss = loss_function(outputs, targets)\n",
    "        loss.backward()\n",
    "        optimizer.step()\n",
    "        \n",
    "        # Get accuracy\n",
    "        total_loss += loss.item()\n",
    "        predicted = (outputs >= 0.5).float()  # Convert probabilities to 0 or 1\n",
    "        total += targets.size(0)\n",
    "        correct += (predicted == targets).sum().item()\n",
    "    \n",
    "        # Store predictions and labels for confusion matrix\n",
    "        all_preds.extend(predicted.tolist())\n",
    "        all_labels.extend(targets.tolist())\n",
    "        \n",
    "    accuracy = 100 * correct / total\n",
    "\n",
    "    # Optionally print the loss every few epochs\n",
    "    if epoch % 5 == 0:\n",
    "        print(f'Epoch {epoch+1}, Loss: {loss.item()}')\n",
    "        print(f\"Accuracy: {accuracy}%\")\n",
    "\n",
    "conf_matrix = confusion_matrix(all_labels, all_preds)"
   ]
  },
  {
   "cell_type": "code",
   "execution_count": 934,
   "metadata": {
    "tags": []
   },
   "outputs": [
    {
     "data": {
      "text/plain": [
       "array([[258,  12],\n",
       "       [ 54, 267]])"
      ]
     },
     "execution_count": 934,
     "metadata": {},
     "output_type": "execute_result"
    }
   ],
   "source": [
    "# Training confusion matrix\n",
    "conf_matrix"
   ]
  },
  {
   "cell_type": "code",
   "execution_count": 935,
   "metadata": {
    "tags": []
   },
   "outputs": [
    {
     "data": {
      "image/png": "[encoded data removed]",
      "text/plain": [
       "<Figure size 640x480 with 2 Axes>"
      ]
     },
     "metadata": {},
     "output_type": "display_data"
    }
   ],
   "source": [
    "# Optional: Visualizing the Training confusion matrix\n",
    "sns.heatmap(conf_matrix, annot=True, fmt='d', cmap='Blues')\n",
    "plt.xlabel('Predicted Labels')\n",
    "plt.ylabel('True Labels')\n",
    "plt.title('Training Confusion Matrix')\n",
    "plt.show()\n"
   ]
  },
  {
   "cell_type": "code",
   "execution_count": 936,
   "metadata": {},
   "outputs": [],
   "source": [
    "# Remove zeros from y_tests\n",
    "y_test = y_test.replace(-1, 0).astype(float)"
   ]
  },
  {
   "cell_type": "code",
   "execution_count": 937,
   "metadata": {
    "tags": []
   },
   "outputs": [],
   "source": [
    "def predict(model, data_loader):\n",
    "    model.eval()  # Set the model to evaluation mode\n",
    "    predictions = []\n",
    "    actual_labels = []\n",
    "    \n",
    "    with torch.no_grad():  \n",
    "        for inputs, labels in data_loader:\n",
    "            inputs = inputs.float()\n",
    "            #labels = labels.float()\n",
    "            \n",
    "            outputs = model(inputs)\n",
    "            #_, predicted = torch.max(outputs.data, 1)\n",
    "            predicted_labels = (outputs.squeeze() >= 0.5).long()  # Apply threshold and convert to long dtype\n",
    "\n",
    "            #outputs = outputs.squeeze()  # Adjusting dimensions if necessary\n",
    "            #print(predicted_labels)\n",
    "            #predicted_labels = (outputs >= 0.1).long()  # Applying threshold to convert to class labels\n",
    "            predictions.extend(predicted_labels.tolist())\n",
    "            actual_labels.extend(labels.tolist())\n",
    "    \n",
    "    return actual_labels, predictions\n"
   ]
  },
  {
   "cell_type": "code",
   "execution_count": 938,
   "metadata": {
    "tags": []
   },
   "outputs": [],
   "source": [
    "from sklearn.metrics import confusion_matrix\n",
    "\n",
    "# Assuming test_loader is your DataLoader for the test set\n",
    "actual_labels, predictions = predict(model, test_loader)\n"
   ]
  },
  {
   "cell_type": "code",
   "execution_count": 939,
   "metadata": {
    "tags": []
   },
   "outputs": [],
   "source": [
    "conf_matrix = confusion_matrix(actual_labels, predictions)\n"
   ]
  },
  {
   "cell_type": "code",
   "execution_count": 940,
   "metadata": {
    "tags": []
   },
   "outputs": [
    {
     "data": {
      "text/plain": [
       "array([[179,  75],\n",
       "       [210, 127]])"
      ]
     },
     "execution_count": 940,
     "metadata": {},
     "output_type": "execute_result"
    }
   ],
   "source": [
    "conf_matrix"
   ]
  },
  {
   "cell_type": "code",
   "execution_count": 941,
   "metadata": {
    "tags": []
   },
   "outputs": [
    {
     "data": {
      "image/png": "[encoded data removed]",
      "text/plain": [
       "<Figure size 640x480 with 2 Axes>"
      ]
     },
     "metadata": {},
     "output_type": "display_data"
    }
   ],
   "source": [
    "sns.heatmap(conf_matrix, annot=True, fmt='d', cmap='Blues')\n",
    "plt.xlabel('Predicted Labels')\n",
    "plt.ylabel('True Labels')\n",
    "plt.title('Confusion Matrix')\n",
    "plt.show()\n"
   ]
  },
  {
   "cell_type": "code",
   "execution_count": 942,
   "metadata": {
    "tags": []
   },
   "outputs": [
    {
     "name": "stdout",
     "output_type": "stream",
     "text": [
      "Precision: 0.6287128712871287\n",
      "Recall: 0.3768545994065282\n",
      "F1 Score: 0.4712430426716141\n"
     ]
    }
   ],
   "source": [
    "from sklearn.metrics import precision_score, recall_score, f1_score\n",
    "\n",
    "precision = precision_score(actual_labels, predictions)\n",
    "recall = recall_score(actual_labels, predictions)\n",
    "f1 = f1_score(actual_labels, predictions)\n",
    "\n",
    "print(f\"Precision: {precision}\")\n",
    "print(f\"Recall: {recall}\")\n",
    "print(f\"F1 Score: {f1}\")\n"
   ]
  },
  {
   "cell_type": "code",
   "execution_count": null,
   "metadata": {},
   "outputs": [],
   "source": []
  },
  {
   "cell_type": "code",
   "execution_count": null,
   "metadata": {},
   "outputs": [],
   "source": []
  },
  {
   "cell_type": "code",
   "execution_count": null,
   "metadata": {},
   "outputs": [],
   "source": []
  },
  {
   "cell_type": "code",
   "execution_count": null,
   "metadata": {},
   "outputs": [],
   "source": []
  }
 ],
 "metadata": {
  "kernelspec": {
   "display_name": "Python 3 (ipykernel)",
   "language": "python",
   "name": "python3"
  },
  "language_info": {
   "codemirror_mode": {
    "name": "ipython",
    "version": 3
   },
   "file_extension": ".py",
   "mimetype": "text/x-python",
   "name": "python",
   "nbconvert_exporter": "python",
   "pygments_lexer": "ipython3",
   "version": "3.11.0"
  }
 },
 "nbformat": 4,
 "nbformat_minor": 4
}
