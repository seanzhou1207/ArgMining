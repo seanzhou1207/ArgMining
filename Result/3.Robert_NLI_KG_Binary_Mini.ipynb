{
 "cells": [
  {
   "cell_type": "code",
   "execution_count": 152,
   "metadata": {},
   "outputs": [],
   "source": [
    "import torch\n",
    "import pandas as pd\n",
    "from torch import nn\n",
    "from torch.utils.data import DataLoader, TensorDataset\n",
    "import numpy as np\n",
    "from sklearn.metrics import f1_score\n",
    "import torch.nn.functional as F\n",
    "\n",
    "from sklearn.metrics import confusion_matrix\n",
    "\n",
    "import seaborn as sns\n",
    "import matplotlib.pyplot as plt\n",
    "\n",
    "from sklearn.metrics import precision_score, recall_score, f1_score\n"
   ]
  },
  {
   "cell_type": "code",
   "execution_count": 101,
   "metadata": {},
   "outputs": [],
   "source": [
    "train = pd.read_csv(\"../Data/TaskA_train_neural_kg.csv\", index_col=0)\n",
    "test = pd.read_pickle(\"../Data/TaskA_test_neural_kg.pkl\")"
   ]
  },
  {
   "cell_type": "code",
   "execution_count": 102,
   "metadata": {
    "tags": []
   },
   "outputs": [],
   "source": [
    "# Get entailment score\n",
    "def get_entail_prob(ent_dist: str):\n",
    "    s = ent_dist.strip('[]')\n",
    "\n",
    "    # Split the string into a list of numbers\n",
    "    numbers = s.split()\n",
    "    # Select the last element\n",
    "    last_number = numbers[-1]\n",
    "    # Convert to float\n",
    "    last_number = float(last_number)\n",
    "    \n",
    "    return last_number\n",
    "\n",
    "def get_contrad_prob(ent_dist: str):\n",
    "    s = ent_dist.strip('[]')\n",
    "\n",
    "    # Split the string into a list of numbers\n",
    "    numbers = s.split()\n",
    "    # Select the first element\n",
    "    first_number = numbers[0]\n",
    "    # Convert to float\n",
    "    first_number = float(first_number)\n",
    "    \n",
    "    return first_number"
   ]
  },
  {
   "cell_type": "code",
   "execution_count": 103,
   "metadata": {
    "tags": []
   },
   "outputs": [
    {
     "data": {
      "text/plain": [
       "0.00257363"
      ]
     },
     "execution_count": 103,
     "metadata": {},
     "output_type": "execute_result"
    }
   ],
   "source": [
    "temp = train[\"EntailmentPtoC_distrib\"][0]\n",
    "get_entail_prob(temp)\n",
    "get_contrad_prob(temp)\n",
    "#test[\"topic\"].value_counts()"
   ]
  },
  {
   "cell_type": "code",
   "execution_count": 104,
   "metadata": {
    "tags": []
   },
   "outputs": [],
   "source": [
    "dist_PtoC_train = train[\"EntailmentPtoC_distrib\"]\n",
    "dist_PtoC_test = test[\"EntailmentPtoC_distrib\"]\n",
    "\n",
    "\n",
    "train[\"contrad_prob_PtoC\"] = [get_contrad_prob(s) for s in dist_PtoC_train]\n",
    "train[\"entail_prob_PtoC\"] = [get_entail_prob(s) for s in dist_PtoC_train]\n",
    "test[\"contrad_prob_PtoC\"] = [get_contrad_prob(s) for s in dist_PtoC_test]\n",
    "test[\"entail_prob_PtoC\"] = [get_entail_prob(s) for s in dist_PtoC_test]\n",
    "\n",
    "dist_CtoP_train = train[\"EntailmentCtoP_distrib\"]\n",
    "dist_CtoP_test = test[\"EntailmentCtoP_distrib\"]\n",
    "\n",
    "train[\"contrad_prob_CtoP\"] = [get_contrad_prob(s) for s in dist_CtoP_train]\n",
    "train[\"entail_prob_CtoP\"] = [get_entail_prob(s) for s in dist_CtoP_train]\n",
    "test[\"contrad_prob_CtoP\"] = [get_contrad_prob(s) for s in dist_CtoP_test]\n",
    "test[\"entail_prob_CtoP\"] = [get_entail_prob(s) for s in dist_CtoP_test]"
   ]
  },
  {
   "cell_type": "code",
   "execution_count": 105,
   "metadata": {
    "tags": []
   },
   "outputs": [
    {
     "data": {
      "text/html": [
       "<div>\n",
       "<style scoped>\n",
       "    .dataframe tbody tr th:only-of-type {\n",
       "        vertical-align: middle;\n",
       "    }\n",
       "\n",
       "    .dataframe tbody tr th {\n",
       "        vertical-align: top;\n",
       "    }\n",
       "\n",
       "    .dataframe thead th {\n",
       "        text-align: right;\n",
       "    }\n",
       "</style>\n",
       "<table border=\"1\" class=\"dataframe\">\n",
       "  <thead>\n",
       "    <tr style=\"text-align: right;\">\n",
       "      <th></th>\n",
       "      <th>topic</th>\n",
       "      <th>Premise</th>\n",
       "      <th>Conclusion</th>\n",
       "      <th>Validity</th>\n",
       "      <th>Validity-Confidence</th>\n",
       "      <th>Novelty</th>\n",
       "      <th>Novelty-Confidence</th>\n",
       "      <th>EntailmentPtoC_distrib</th>\n",
       "      <th>EntailmentCtoP_distrib</th>\n",
       "      <th>SBERT_premise</th>\n",
       "      <th>...</th>\n",
       "      <th>SBERT_cosine_sim</th>\n",
       "      <th>Irrelevancy</th>\n",
       "      <th>AveDistance</th>\n",
       "      <th>SemPaths</th>\n",
       "      <th>PIds</th>\n",
       "      <th>CIds</th>\n",
       "      <th>contrad_prob_PtoC</th>\n",
       "      <th>entail_prob_PtoC</th>\n",
       "      <th>contrad_prob_CtoP</th>\n",
       "      <th>entail_prob_CtoP</th>\n",
       "    </tr>\n",
       "  </thead>\n",
       "  <tbody>\n",
       "    <tr>\n",
       "      <th>0</th>\n",
       "      <td>TV viewing is harmful to children</td>\n",
       "      <td>The popularity of TV watching is among the rea...</td>\n",
       "      <td>Depression is a well-known psychological probl...</td>\n",
       "      <td>1.0</td>\n",
       "      <td>confident</td>\n",
       "      <td>1.0</td>\n",
       "      <td>confident</td>\n",
       "      <td>[0.00257363 0.9506806  0.04674578]</td>\n",
       "      <td>[1.2299823e-04 9.9849927e-01 1.3778165e-03]</td>\n",
       "      <td>tensor([ 5.9025e-01,  3.1199e-01,  3.8462e-01,...</td>\n",
       "      <td>...</td>\n",
       "      <td>0.691556</td>\n",
       "      <td>1.0</td>\n",
       "      <td>3.835000</td>\n",
       "      <td>[{'from': 'Q289', 'to': 'Q289', 'paths': [['Q2...</td>\n",
       "      <td>{'Q1752292', 'Q1137632', 'Q6987190', 'Q9415', ...</td>\n",
       "      <td>{'Q11084414', 'Q8698', 'Q8425', 'Q9418', 'Q730...</td>\n",
       "      <td>0.002574</td>\n",
       "      <td>0.046746</td>\n",
       "      <td>0.000123</td>\n",
       "      <td>0.001378</td>\n",
       "    </tr>\n",
       "    <tr>\n",
       "      <th>1</th>\n",
       "      <td>TV viewing is harmful to children</td>\n",
       "      <td>The popularity of TV watching is among the rea...</td>\n",
       "      <td>Children's TV viewing fosters negative emotions</td>\n",
       "      <td>1.0</td>\n",
       "      <td>very confident</td>\n",
       "      <td>-1.0</td>\n",
       "      <td>majority</td>\n",
       "      <td>[3.6902730e-03 9.9546152e-01 8.4823393e-04]</td>\n",
       "      <td>[1.0127824e-03 9.9805212e-01 9.3512965e-04]</td>\n",
       "      <td>tensor([ 5.9025e-01,  3.1199e-01,  3.8462e-01,...</td>\n",
       "      <td>...</td>\n",
       "      <td>0.653264</td>\n",
       "      <td>1.0</td>\n",
       "      <td>3.897143</td>\n",
       "      <td>[{'from': 'Q289', 'to': 'Q289', 'paths': [['Q2...</td>\n",
       "      <td>{'Q1752292', 'Q1137632', 'Q6987190', 'Q9415', ...</td>\n",
       "      <td>{'Q7569', 'Q1273568', 'Q6987190', 'Q9415', 'Q2...</td>\n",
       "      <td>0.003690</td>\n",
       "      <td>0.000848</td>\n",
       "      <td>0.001013</td>\n",
       "      <td>0.000935</td>\n",
       "    </tr>\n",
       "    <tr>\n",
       "      <th>2</th>\n",
       "      <td>TV viewing is harmful to children</td>\n",
       "      <td>The popularity of TV watching is among the rea...</td>\n",
       "      <td>Popularity of TV is harmful to children</td>\n",
       "      <td>1.0</td>\n",
       "      <td>very confident</td>\n",
       "      <td>1.0</td>\n",
       "      <td>majority</td>\n",
       "      <td>[0.00237425 0.9916011  0.0060247 ]</td>\n",
       "      <td>[1.6625022e-04 9.9832898e-01 1.5047241e-03]</td>\n",
       "      <td>tensor([ 5.9025e-01,  3.1199e-01,  3.8462e-01,...</td>\n",
       "      <td>...</td>\n",
       "      <td>0.566383</td>\n",
       "      <td>2.0</td>\n",
       "      <td>3.946667</td>\n",
       "      <td>[{'from': 'Q289', 'to': 'Q289', 'paths': [['Q2...</td>\n",
       "      <td>{'Q1752292', 'Q1137632', 'Q6987190', 'Q9415', ...</td>\n",
       "      <td>{'Q7569', 'Q1357284', 'Q289'}</td>\n",
       "      <td>0.002374</td>\n",
       "      <td>0.006025</td>\n",
       "      <td>0.000166</td>\n",
       "      <td>0.001505</td>\n",
       "    </tr>\n",
       "    <tr>\n",
       "      <th>3</th>\n",
       "      <td>TV viewing is harmful to children</td>\n",
       "      <td>The popularity of TV watching is among the rea...</td>\n",
       "      <td>Violence on TV and in movies encourages psycho...</td>\n",
       "      <td>1.0</td>\n",
       "      <td>very confident</td>\n",
       "      <td>1.0</td>\n",
       "      <td>majority</td>\n",
       "      <td>[2.3087906e-04 5.8122087e-02 9.4164705e-01]</td>\n",
       "      <td>[4.9157705e-05 9.9012321e-01 9.8276846e-03]</td>\n",
       "      <td>tensor([ 5.9025e-01,  3.1199e-01,  3.8462e-01,...</td>\n",
       "      <td>...</td>\n",
       "      <td>0.709627</td>\n",
       "      <td>0.0</td>\n",
       "      <td>3.840000</td>\n",
       "      <td>[{'from': 'Q11424', 'to': 'Q11424', 'paths': [...</td>\n",
       "      <td>{'Q1752292', 'Q1137632', 'Q6987190', 'Q9415', ...</td>\n",
       "      <td>{'Q3500368', 'Q289', 'Q11424', 'Q124490'}</td>\n",
       "      <td>0.000231</td>\n",
       "      <td>0.941647</td>\n",
       "      <td>0.000049</td>\n",
       "      <td>0.009828</td>\n",
       "    </tr>\n",
       "    <tr>\n",
       "      <th>4</th>\n",
       "      <td>TV viewing is harmful to children</td>\n",
       "      <td>The popularity of TV watching is among the rea...</td>\n",
       "      <td>US-India deal does not cap or limit Indian fis...</td>\n",
       "      <td>-1.0</td>\n",
       "      <td>very confident</td>\n",
       "      <td>-1.0</td>\n",
       "      <td>very confident</td>\n",
       "      <td>[0.53913003 0.45541376 0.00545627]</td>\n",
       "      <td>[6.5827486e-04 9.9876738e-01 5.7435635e-04]</td>\n",
       "      <td>tensor([ 5.9025e-01,  3.1199e-01,  3.8462e-01,...</td>\n",
       "      <td>...</td>\n",
       "      <td>-0.023910</td>\n",
       "      <td>4.0</td>\n",
       "      <td>3.955000</td>\n",
       "      <td>[{'from': 'Q287171', 'to': 'Q30', 'paths': [['...</td>\n",
       "      <td>{'Q1752292', 'Q1137632', 'Q6987190', 'Q9415', ...</td>\n",
       "      <td>{'Q187939', 'Q898653', 'Q668', 'Q60140', 'Q471...</td>\n",
       "      <td>0.539130</td>\n",
       "      <td>0.005456</td>\n",
       "      <td>0.000658</td>\n",
       "      <td>0.000574</td>\n",
       "    </tr>\n",
       "    <tr>\n",
       "      <th>...</th>\n",
       "      <td>...</td>\n",
       "      <td>...</td>\n",
       "      <td>...</td>\n",
       "      <td>...</td>\n",
       "      <td>...</td>\n",
       "      <td>...</td>\n",
       "      <td>...</td>\n",
       "      <td>...</td>\n",
       "      <td>...</td>\n",
       "      <td>...</td>\n",
       "      <td>...</td>\n",
       "      <td>...</td>\n",
       "      <td>...</td>\n",
       "      <td>...</td>\n",
       "      <td>...</td>\n",
       "      <td>...</td>\n",
       "      <td>...</td>\n",
       "      <td>...</td>\n",
       "      <td>...</td>\n",
       "      <td>...</td>\n",
       "      <td>...</td>\n",
       "    </tr>\n",
       "    <tr>\n",
       "      <th>745</th>\n",
       "      <td>Using sanctions to end child labor</td>\n",
       "      <td>Boycotts of one producer lead others to act ou...</td>\n",
       "      <td>Turkey’s workforce is younger than the EU-25.</td>\n",
       "      <td>-1.0</td>\n",
       "      <td>very confident</td>\n",
       "      <td>-1.0</td>\n",
       "      <td>very confident</td>\n",
       "      <td>[0.02967133 0.96572566 0.00460293]</td>\n",
       "      <td>[8.2011259e-01 1.7950955e-01 3.7789016e-04]</td>\n",
       "      <td>tensor([ 2.2092e-02,  5.2591e-01,  4.3792e-01,...</td>\n",
       "      <td>...</td>\n",
       "      <td>0.003667</td>\n",
       "      <td>3.0</td>\n",
       "      <td>3.833333</td>\n",
       "      <td>[{'from': 'Q708', 'to': 'Q43', 'paths': [['Q70...</td>\n",
       "      <td>{'Q37654', 'Q183945', 'Q595597', 'Q133080', 'Q...</td>\n",
       "      <td>{'Q43', 'Q19933476', 'Q13440398', 'Q8058602'}</td>\n",
       "      <td>0.029671</td>\n",
       "      <td>0.004603</td>\n",
       "      <td>0.820113</td>\n",
       "      <td>0.000378</td>\n",
       "    </tr>\n",
       "    <tr>\n",
       "      <th>746</th>\n",
       "      <td>Using sanctions to end child labor</td>\n",
       "      <td>Whilst opinion pollsters are told their interv...</td>\n",
       "      <td>9/11 terror suspects will face justice in New ...</td>\n",
       "      <td>-1.0</td>\n",
       "      <td>very confident</td>\n",
       "      <td>-1.0</td>\n",
       "      <td>very confident</td>\n",
       "      <td>[0.01450976 0.978126   0.00736422]</td>\n",
       "      <td>[3.8786305e-03 9.9537551e-01 7.4592244e-04]</td>\n",
       "      <td>tensor([ 6.1543e-01,  7.9803e-01,  1.0422e-02,...</td>\n",
       "      <td>...</td>\n",
       "      <td>0.156513</td>\n",
       "      <td>4.0</td>\n",
       "      <td>3.811111</td>\n",
       "      <td>[{'from': 'Q9465', 'to': 'Q60', 'paths': [['Q9...</td>\n",
       "      <td>{'Q140813', 'Q6821213', 'Q1939618', 'Q89640', ...</td>\n",
       "      <td>{'Q186125', 'Q9476', 'Q1384', 'Q37017', 'Q60',...</td>\n",
       "      <td>0.014510</td>\n",
       "      <td>0.007364</td>\n",
       "      <td>0.003879</td>\n",
       "      <td>0.000746</td>\n",
       "    </tr>\n",
       "    <tr>\n",
       "      <th>747</th>\n",
       "      <td>Using sanctions to end child labor</td>\n",
       "      <td>Boycotts of one producer lead others to act ou...</td>\n",
       "      <td>Consumer pressure is a powerful tool.</td>\n",
       "      <td>1.0</td>\n",
       "      <td>very confident</td>\n",
       "      <td>1.0</td>\n",
       "      <td>very confident</td>\n",
       "      <td>[0.00849445 0.8047239  0.18678164]</td>\n",
       "      <td>[4.8050392e-01 5.1901650e-01 4.7956427e-04]</td>\n",
       "      <td>tensor([ 2.2092e-02,  5.2591e-01,  4.3792e-01,...</td>\n",
       "      <td>...</td>\n",
       "      <td>0.222510</td>\n",
       "      <td>2.0</td>\n",
       "      <td>3.666667</td>\n",
       "      <td>[{'from': 'Q37654', 'to': 'Q22855', 'paths': [...</td>\n",
       "      <td>{'Q37654', 'Q183945', 'Q595597', 'Q133080', 'Q...</td>\n",
       "      <td>{'Q22855', 'Q25342', 'Q39552', 'Q39546'}</td>\n",
       "      <td>0.008494</td>\n",
       "      <td>0.186782</td>\n",
       "      <td>0.480504</td>\n",
       "      <td>0.000480</td>\n",
       "    </tr>\n",
       "    <tr>\n",
       "      <th>748</th>\n",
       "      <td>Using sanctions to end child labor</td>\n",
       "      <td>Companies will simply move to areas where the ...</td>\n",
       "      <td>Sanctions typically harm the poorest in societ...</td>\n",
       "      <td>1.0</td>\n",
       "      <td>majority</td>\n",
       "      <td>1.0</td>\n",
       "      <td>majority</td>\n",
       "      <td>[5.6648692e-03 9.9377382e-01 5.6131755e-04]</td>\n",
       "      <td>[3.3784876e-04 9.9551553e-01 4.1465592e-03]</td>\n",
       "      <td>tensor([-1.0048e-01,  7.6652e-01, -2.7701e-01,...</td>\n",
       "      <td>...</td>\n",
       "      <td>0.484502</td>\n",
       "      <td>2.0</td>\n",
       "      <td>3.714286</td>\n",
       "      <td>[{'from': 'Q193078', 'to': 'Q193078', 'paths':...</td>\n",
       "      <td>{'Q627933', 'Q37654', 'Q193078', 'Q1380756', '...</td>\n",
       "      <td>{'Q193078', 'Q10294', 'Q8425', 'Q1248258'}</td>\n",
       "      <td>0.005665</td>\n",
       "      <td>0.000561</td>\n",
       "      <td>0.000338</td>\n",
       "      <td>0.004147</td>\n",
       "    </tr>\n",
       "    <tr>\n",
       "      <th>749</th>\n",
       "      <td>Using sanctions to end child labor</td>\n",
       "      <td>Boycotts of one producer lead others to act ou...</td>\n",
       "      <td>Consumer power has proven highly effective in ...</td>\n",
       "      <td>1.0</td>\n",
       "      <td>majority</td>\n",
       "      <td>1.0</td>\n",
       "      <td>majority</td>\n",
       "      <td>[0.01259692 0.9830262  0.00437689]</td>\n",
       "      <td>[8.7876654e-01 1.2088959e-01 3.4384662e-04]</td>\n",
       "      <td>tensor([ 2.2092e-02,  5.2591e-01,  4.3792e-01,...</td>\n",
       "      <td>...</td>\n",
       "      <td>0.398973</td>\n",
       "      <td>3.0</td>\n",
       "      <td>3.708333</td>\n",
       "      <td>[{'from': 'Q37654', 'to': 'Q4830453', 'paths':...</td>\n",
       "      <td>{'Q37654', 'Q183945', 'Q595597', 'Q133080', 'Q...</td>\n",
       "      <td>{'Q22855', 'Q11538', 'Q4830453', 'Q11402', 'Q3...</td>\n",
       "      <td>0.012597</td>\n",
       "      <td>0.004377</td>\n",
       "      <td>0.878767</td>\n",
       "      <td>0.000344</td>\n",
       "    </tr>\n",
       "  </tbody>\n",
       "</table>\n",
       "<p>750 rows × 21 columns</p>\n",
       "</div>"
      ],
      "text/plain": [
       "                                  topic  \\\n",
       "0     TV viewing is harmful to children   \n",
       "1     TV viewing is harmful to children   \n",
       "2     TV viewing is harmful to children   \n",
       "3     TV viewing is harmful to children   \n",
       "4     TV viewing is harmful to children   \n",
       "..                                  ...   \n",
       "745  Using sanctions to end child labor   \n",
       "746  Using sanctions to end child labor   \n",
       "747  Using sanctions to end child labor   \n",
       "748  Using sanctions to end child labor   \n",
       "749  Using sanctions to end child labor   \n",
       "\n",
       "                                               Premise  \\\n",
       "0    The popularity of TV watching is among the rea...   \n",
       "1    The popularity of TV watching is among the rea...   \n",
       "2    The popularity of TV watching is among the rea...   \n",
       "3    The popularity of TV watching is among the rea...   \n",
       "4    The popularity of TV watching is among the rea...   \n",
       "..                                                 ...   \n",
       "745  Boycotts of one producer lead others to act ou...   \n",
       "746  Whilst opinion pollsters are told their interv...   \n",
       "747  Boycotts of one producer lead others to act ou...   \n",
       "748  Companies will simply move to areas where the ...   \n",
       "749  Boycotts of one producer lead others to act ou...   \n",
       "\n",
       "                                            Conclusion  Validity  \\\n",
       "0    Depression is a well-known psychological probl...       1.0   \n",
       "1      Children's TV viewing fosters negative emotions       1.0   \n",
       "2              Popularity of TV is harmful to children       1.0   \n",
       "3    Violence on TV and in movies encourages psycho...       1.0   \n",
       "4    US-India deal does not cap or limit Indian fis...      -1.0   \n",
       "..                                                 ...       ...   \n",
       "745      Turkey’s workforce is younger than the EU-25.      -1.0   \n",
       "746  9/11 terror suspects will face justice in New ...      -1.0   \n",
       "747              Consumer pressure is a powerful tool.       1.0   \n",
       "748  Sanctions typically harm the poorest in societ...       1.0   \n",
       "749  Consumer power has proven highly effective in ...       1.0   \n",
       "\n",
       "    Validity-Confidence  Novelty Novelty-Confidence  \\\n",
       "0             confident      1.0          confident   \n",
       "1        very confident     -1.0           majority   \n",
       "2        very confident      1.0           majority   \n",
       "3        very confident      1.0           majority   \n",
       "4        very confident     -1.0     very confident   \n",
       "..                  ...      ...                ...   \n",
       "745      very confident     -1.0     very confident   \n",
       "746      very confident     -1.0     very confident   \n",
       "747      very confident      1.0     very confident   \n",
       "748            majority      1.0           majority   \n",
       "749            majority      1.0           majority   \n",
       "\n",
       "                          EntailmentPtoC_distrib  \\\n",
       "0             [0.00257363 0.9506806  0.04674578]   \n",
       "1    [3.6902730e-03 9.9546152e-01 8.4823393e-04]   \n",
       "2             [0.00237425 0.9916011  0.0060247 ]   \n",
       "3    [2.3087906e-04 5.8122087e-02 9.4164705e-01]   \n",
       "4             [0.53913003 0.45541376 0.00545627]   \n",
       "..                                           ...   \n",
       "745           [0.02967133 0.96572566 0.00460293]   \n",
       "746           [0.01450976 0.978126   0.00736422]   \n",
       "747           [0.00849445 0.8047239  0.18678164]   \n",
       "748  [5.6648692e-03 9.9377382e-01 5.6131755e-04]   \n",
       "749           [0.01259692 0.9830262  0.00437689]   \n",
       "\n",
       "                          EntailmentCtoP_distrib  \\\n",
       "0    [1.2299823e-04 9.9849927e-01 1.3778165e-03]   \n",
       "1    [1.0127824e-03 9.9805212e-01 9.3512965e-04]   \n",
       "2    [1.6625022e-04 9.9832898e-01 1.5047241e-03]   \n",
       "3    [4.9157705e-05 9.9012321e-01 9.8276846e-03]   \n",
       "4    [6.5827486e-04 9.9876738e-01 5.7435635e-04]   \n",
       "..                                           ...   \n",
       "745  [8.2011259e-01 1.7950955e-01 3.7789016e-04]   \n",
       "746  [3.8786305e-03 9.9537551e-01 7.4592244e-04]   \n",
       "747  [4.8050392e-01 5.1901650e-01 4.7956427e-04]   \n",
       "748  [3.3784876e-04 9.9551553e-01 4.1465592e-03]   \n",
       "749  [8.7876654e-01 1.2088959e-01 3.4384662e-04]   \n",
       "\n",
       "                                         SBERT_premise  ... SBERT_cosine_sim  \\\n",
       "0    tensor([ 5.9025e-01,  3.1199e-01,  3.8462e-01,...  ...         0.691556   \n",
       "1    tensor([ 5.9025e-01,  3.1199e-01,  3.8462e-01,...  ...         0.653264   \n",
       "2    tensor([ 5.9025e-01,  3.1199e-01,  3.8462e-01,...  ...         0.566383   \n",
       "3    tensor([ 5.9025e-01,  3.1199e-01,  3.8462e-01,...  ...         0.709627   \n",
       "4    tensor([ 5.9025e-01,  3.1199e-01,  3.8462e-01,...  ...        -0.023910   \n",
       "..                                                 ...  ...              ...   \n",
       "745  tensor([ 2.2092e-02,  5.2591e-01,  4.3792e-01,...  ...         0.003667   \n",
       "746  tensor([ 6.1543e-01,  7.9803e-01,  1.0422e-02,...  ...         0.156513   \n",
       "747  tensor([ 2.2092e-02,  5.2591e-01,  4.3792e-01,...  ...         0.222510   \n",
       "748  tensor([-1.0048e-01,  7.6652e-01, -2.7701e-01,...  ...         0.484502   \n",
       "749  tensor([ 2.2092e-02,  5.2591e-01,  4.3792e-01,...  ...         0.398973   \n",
       "\n",
       "     Irrelevancy  AveDistance  \\\n",
       "0            1.0     3.835000   \n",
       "1            1.0     3.897143   \n",
       "2            2.0     3.946667   \n",
       "3            0.0     3.840000   \n",
       "4            4.0     3.955000   \n",
       "..           ...          ...   \n",
       "745          3.0     3.833333   \n",
       "746          4.0     3.811111   \n",
       "747          2.0     3.666667   \n",
       "748          2.0     3.714286   \n",
       "749          3.0     3.708333   \n",
       "\n",
       "                                              SemPaths  \\\n",
       "0    [{'from': 'Q289', 'to': 'Q289', 'paths': [['Q2...   \n",
       "1    [{'from': 'Q289', 'to': 'Q289', 'paths': [['Q2...   \n",
       "2    [{'from': 'Q289', 'to': 'Q289', 'paths': [['Q2...   \n",
       "3    [{'from': 'Q11424', 'to': 'Q11424', 'paths': [...   \n",
       "4    [{'from': 'Q287171', 'to': 'Q30', 'paths': [['...   \n",
       "..                                                 ...   \n",
       "745  [{'from': 'Q708', 'to': 'Q43', 'paths': [['Q70...   \n",
       "746  [{'from': 'Q9465', 'to': 'Q60', 'paths': [['Q9...   \n",
       "747  [{'from': 'Q37654', 'to': 'Q22855', 'paths': [...   \n",
       "748  [{'from': 'Q193078', 'to': 'Q193078', 'paths':...   \n",
       "749  [{'from': 'Q37654', 'to': 'Q4830453', 'paths':...   \n",
       "\n",
       "                                                  PIds  \\\n",
       "0    {'Q1752292', 'Q1137632', 'Q6987190', 'Q9415', ...   \n",
       "1    {'Q1752292', 'Q1137632', 'Q6987190', 'Q9415', ...   \n",
       "2    {'Q1752292', 'Q1137632', 'Q6987190', 'Q9415', ...   \n",
       "3    {'Q1752292', 'Q1137632', 'Q6987190', 'Q9415', ...   \n",
       "4    {'Q1752292', 'Q1137632', 'Q6987190', 'Q9415', ...   \n",
       "..                                                 ...   \n",
       "745  {'Q37654', 'Q183945', 'Q595597', 'Q133080', 'Q...   \n",
       "746  {'Q140813', 'Q6821213', 'Q1939618', 'Q89640', ...   \n",
       "747  {'Q37654', 'Q183945', 'Q595597', 'Q133080', 'Q...   \n",
       "748  {'Q627933', 'Q37654', 'Q193078', 'Q1380756', '...   \n",
       "749  {'Q37654', 'Q183945', 'Q595597', 'Q133080', 'Q...   \n",
       "\n",
       "                                                  CIds contrad_prob_PtoC  \\\n",
       "0    {'Q11084414', 'Q8698', 'Q8425', 'Q9418', 'Q730...          0.002574   \n",
       "1    {'Q7569', 'Q1273568', 'Q6987190', 'Q9415', 'Q2...          0.003690   \n",
       "2                        {'Q7569', 'Q1357284', 'Q289'}          0.002374   \n",
       "3            {'Q3500368', 'Q289', 'Q11424', 'Q124490'}          0.000231   \n",
       "4    {'Q187939', 'Q898653', 'Q668', 'Q60140', 'Q471...          0.539130   \n",
       "..                                                 ...               ...   \n",
       "745      {'Q43', 'Q19933476', 'Q13440398', 'Q8058602'}          0.029671   \n",
       "746  {'Q186125', 'Q9476', 'Q1384', 'Q37017', 'Q60',...          0.014510   \n",
       "747           {'Q22855', 'Q25342', 'Q39552', 'Q39546'}          0.008494   \n",
       "748         {'Q193078', 'Q10294', 'Q8425', 'Q1248258'}          0.005665   \n",
       "749  {'Q22855', 'Q11538', 'Q4830453', 'Q11402', 'Q3...          0.012597   \n",
       "\n",
       "     entail_prob_PtoC  contrad_prob_CtoP  entail_prob_CtoP  \n",
       "0            0.046746           0.000123          0.001378  \n",
       "1            0.000848           0.001013          0.000935  \n",
       "2            0.006025           0.000166          0.001505  \n",
       "3            0.941647           0.000049          0.009828  \n",
       "4            0.005456           0.000658          0.000574  \n",
       "..                ...                ...               ...  \n",
       "745          0.004603           0.820113          0.000378  \n",
       "746          0.007364           0.003879          0.000746  \n",
       "747          0.186782           0.480504          0.000480  \n",
       "748          0.000561           0.000338          0.004147  \n",
       "749          0.004377           0.878767          0.000344  \n",
       "\n",
       "[750 rows x 21 columns]"
      ]
     },
     "execution_count": 105,
     "metadata": {},
     "output_type": "execute_result"
    }
   ],
   "source": [
    "train\n",
    "#test_correct = pd.read_csv(\"../Data/TaskA_test_neural.csv\")\n",
    "#test_correct[\"topic\"].value_counts()"
   ]
  },
  {
   "cell_type": "code",
   "execution_count": 106,
   "metadata": {},
   "outputs": [],
   "source": [
    "# Get 50-50 split\n",
    "#n_half = int((len(train) + len(test))*0.5)\n",
    "\n",
    "#test_set_new = train.sample(n=len(train)-n_half, random_state=42)\n",
    "\n",
    "# Drop the selected rows from the original dataframe to update the training set\n",
    "#train = train.drop(test_set_new.index)\n",
    "#test = pd.concat([test, test_set_new])"
   ]
  },
  {
   "cell_type": "code",
   "execution_count": 72,
   "metadata": {},
   "outputs": [],
   "source": [
    "# Only predicting validity and choosing non-embedding features\n",
    "X_train = train.loc[:, [\"SBERT_cosine_sim\", \"Irrelevancy\", \"AveDistance\", \"contrad_prob_PtoC\",\t\"entail_prob_PtoC\",\t\"contrad_prob_CtoP\",\"entail_prob_CtoP\"]]\n",
    "                        #, \"Novelty-Confidence\"]]\n",
    "y_train = train.loc[:, \"Validity\"]\n",
    "X_test = test.loc[:, [\"SBERT_cosine_sim\", \"Irrelevancy\", \"AveDistance\", \"contrad_prob_PtoC\",\t\"entail_prob_PtoC\",\t\"contrad_prob_CtoP\",\"entail_prob_CtoP\"]]\n",
    "                      #\"Novelty-Confidence\"]]\n",
    "y_test = test.loc[:, \"Validity\"]"
   ]
  },
  {
   "cell_type": "code",
   "execution_count": 158,
   "metadata": {},
   "outputs": [],
   "source": [
    "def str_to_list(text):\n",
    "    '''\n",
    "    Return tensor string into list\n",
    "    '''\n",
    "    # clean string\n",
    "    clean_str = text.replace('tensor(', '').replace(')', '').strip()\n",
    "    # convert to list\n",
    "    tensor = eval(clean_str, {\"torch\": torch, \"__builtins__\": {}})\n",
    "    return tensor\n",
    "\n",
    "def process_covariate_data(df):\n",
    "    '''\n",
    "    Expanding all tensors in a single cell\n",
    "    Make confidence into ordinal variables\n",
    "    '''\n",
    "    # convert str to tensor (list)\n",
    "    SBERT_premise = df.SBERT_premise.apply(lambda x: str_to_list(x))\n",
    "    SBERT_conclusion = df.SBERT_conclusion.apply(lambda x: str_to_list(x))\n",
    "\n",
    "    # expand the list into individual entries\n",
    "    df_expand1 = SBERT_premise.apply(pd.Series)\n",
    "    df_expand2 = SBERT_conclusion.apply(pd.Series)\n",
    "\n",
    "    # assign a meaningful name\n",
    "    df_expand1.columns = ['pre_emb{}'.format(i+1) for i in range(df_expand1.shape[1])]\n",
    "    df_expand2.columns = ['con_emb{}'.format(i+1) for i in range(df_expand2.shape[1])]\n",
    "\n",
    "    # convert confidence into ordinal variable\n",
    "    confidence_mapping = {\n",
    "        'very confident': 3,\n",
    "        'confident': 2,\n",
    "        'majority': 1,\n",
    "        'defeasible': 0\n",
    "    }\n",
    "    df['Validity-Confidence'] = df['Validity-Confidence'].replace(confidence_mapping)\n",
    "    #df[\"Novelty-Confidence\"] = df['Novelty-Confidence'].replace(confidence_mapping)\n",
    "\n",
    "    # put everything together\n",
    "    df_final = pd.concat([df.drop(['SBERT_premise', \"SBERT_conclusion\"], axis=1), df_expand1, df_expand2], axis=1)\n",
    "    return df_final\n",
    "\n",
    "def preprocess_input(x, y, batchsize):\n",
    "    '''\n",
    "    return DataLoader for later input into the model\n",
    "    '''\n",
    "    # pd.dataframe to array\n",
    "    x = np.array(x, dtype=np.float64)\n",
    "    y = np.array(y, dtype=np.float64)\n",
    "    # transform y for nn model\n",
    "    # assume a value of 0 is not valid/novel\n",
    "    #y[y == -1] = 0\n",
    "\n",
    "    # array to tensor\n",
    "    x_torch = torch.tensor(x)\n",
    "    y_torch = torch.tensor(y)\n",
    "    data = TensorDataset(x_torch, y_torch)\n",
    "\n",
    "    batch_size = batchsize\n",
    "    loader = DataLoader(data, batch_size=batch_size, shuffle=True)\n",
    "    return loader\n",
    "\n",
    "class SimpleNN(nn.Module):\n",
    "    def __init__(self):\n",
    "        super(SimpleNN, self).__init__()\n",
    "        self.input_dim = 1542\n",
    "        self.hidden_dim = 30\n",
    "        self.output_dim = 4\n",
    "        self.fc1 = nn.Linear(self.input_dim, self.hidden_dim)  # Assuming n input features\n",
    "        self.bn1 = nn.BatchNorm1d(self.hidden_dim)  # Batch normalization layer\n",
    "        #self.dropout1 = nn.Dropout(0.1)\n",
    "        self.fc2 = nn.Linear(self.hidden_dim, self.output_dim)  # Outputs 4 values, one for each output column\n",
    "        self.softmax = nn.Softmax(dim=1)\n",
    "    def forward(self, x):\n",
    "        x = x.float()\n",
    "        x = torch.relu(self.bn1(self.fc1(x)))\n",
    "        #x = self.dropout1(x)\n",
    "        x = self.fc2(x)\n",
    "        x = self.softmax(x)\n",
    "        return x\n",
    "    \n",
    "\n",
    "class BinaryClassifier(nn.Module):\n",
    "    def __init__(self):\n",
    "        super(BinaryClassifier, self).__init__()\n",
    "        self.layer1 = nn.Linear(7, 6)\n",
    "        self.relu1 = nn.ReLU()\n",
    "        self.dropout1 = nn.Dropout(0.3)\n",
    "        self.layer2 = nn.Linear(6, 6)\n",
    "        self.relu2 = nn.ReLU()\n",
    "        self.dropout2 = nn.Dropout(0.3)\n",
    "        #self.layer3 = nn.Linear(256, 128)\n",
    "        #self.relu3 = nn.ReLU()\n",
    "        #self.dropout3 = nn.Dropout(0.5)\n",
    "        self.output = nn.Linear(6, 1)\n",
    "        self.sigmoid = nn.Sigmoid()\n",
    "\n",
    "    def forward(self, x):\n",
    "        x = self.layer1(x)\n",
    "        x = self.relu1(x)\n",
    "        x = self.dropout1(x)\n",
    "        x = self.layer2(x)\n",
    "        x = self.relu2(x)\n",
    "        x = self.dropout2(x)\n",
    "        #x = self.layer3(x)\n",
    "        #x = self.relu3(x)\n",
    "        #x = self.dropout3(x)\n",
    "        x = self.output(x)\n",
    "        x = self.sigmoid(x)\n",
    "        return x\n",
    "\n",
    "model = BinaryClassifier()\n"
   ]
  },
  {
   "cell_type": "code",
   "execution_count": 74,
   "metadata": {
    "tags": []
   },
   "outputs": [
    {
     "name": "stderr",
     "output_type": "stream",
     "text": [
      "/tmp/ipykernel_512249/1842579713.py:1: SettingWithCopyWarning: \n",
      "A value is trying to be set on a copy of a slice from a DataFrame\n",
      "\n",
      "See the caveats in the documentation: https://pandas.pydata.org/pandas-docs/stable/user_guide/indexing.html#returning-a-view-versus-a-copy\n",
      "  y_train[y_train == -1] = 0\n",
      "/tmp/ipykernel_512249/1842579713.py:2: SettingWithCopyWarning: \n",
      "A value is trying to be set on a copy of a slice from a DataFrame\n",
      "\n",
      "See the caveats in the documentation: https://pandas.pydata.org/pandas-docs/stable/user_guide/indexing.html#returning-a-view-versus-a-copy\n",
      "  y_test[y_test == -1] = 0\n"
     ]
    }
   ],
   "source": [
    "y_train[y_train == -1] = 0\n",
    "y_test[y_test == -1] = 0"
   ]
  },
  {
   "cell_type": "code",
   "execution_count": 75,
   "metadata": {},
   "outputs": [],
   "source": [
    "#X_train1 = process_covariate_data(X_train)\n",
    "#X_test1 = process_covariate_data(X_test)\n",
    "\n",
    "#X_train1"
   ]
  },
  {
   "cell_type": "code",
   "execution_count": 159,
   "metadata": {},
   "outputs": [],
   "source": [
    "train_loader = preprocess_input(X_train, y_train, 16)\n",
    "test_loader = preprocess_input(X_test, y_test, 16)"
   ]
  },
  {
   "cell_type": "code",
   "execution_count": 77,
   "metadata": {
    "tags": []
   },
   "outputs": [],
   "source": [
    "model = BinaryClassifier()\n",
    "loss_function = nn.BCELoss()\n",
    "optimizer = torch.optim.Adam(model.parameters(), lr=0.01)"
   ]
  },
  {
   "cell_type": "code",
   "execution_count": 78,
   "metadata": {
    "tags": []
   },
   "outputs": [
    {
     "name": "stdout",
     "output_type": "stream",
     "text": [
      "Epoch 1, Loss: 0.6323959231376648\n",
      "Accuracy: 49.13385826771653%\n",
      "Epoch 6, Loss: 0.42427313327789307\n",
      "Accuracy: 70.86614173228347%\n",
      "Epoch 11, Loss: 0.40233078598976135\n",
      "Accuracy: 71.18110236220473%\n",
      "Epoch 16, Loss: 0.6715090870857239\n",
      "Accuracy: 72.91338582677166%\n",
      "Epoch 21, Loss: 0.516625165939331\n",
      "Accuracy: 71.33858267716535%\n",
      "Epoch 26, Loss: 0.30969759821891785\n",
      "Accuracy: 72.75590551181102%\n",
      "Epoch 31, Loss: 0.5263670086860657\n",
      "Accuracy: 75.11811023622047%\n",
      "Epoch 36, Loss: 0.4493201971054077\n",
      "Accuracy: 73.22834645669292%\n",
      "Epoch 41, Loss: 0.3890940845012665\n",
      "Accuracy: 70.86614173228347%\n",
      "Epoch 46, Loss: 0.9017088413238525\n",
      "Accuracy: 75.11811023622047%\n",
      "Epoch 51, Loss: 0.5305658578872681\n",
      "Accuracy: 72.1259842519685%\n",
      "Epoch 56, Loss: 0.4616049826145172\n",
      "Accuracy: 72.28346456692914%\n"
     ]
    }
   ],
   "source": [
    "epochs = 60\n",
    "for epoch in range(epochs):\n",
    "    # for each batch\n",
    "    model.train()  # Set model to training mode\n",
    "    total = 0\n",
    "    correct = 0\n",
    "    total_loss = 0\n",
    "    \n",
    "    all_preds = []\n",
    "    all_labels = []\n",
    "\n",
    "    for inputs, targets in train_loader:\n",
    "        inputs = inputs.float()\n",
    "        targets = targets.float()\n",
    "        optimizer.zero_grad()\n",
    "        outputs = model(inputs)\n",
    "        outputs = outputs.squeeze()  # Squeeze the outputs to remove the extra dimension\n",
    "        loss = loss_function(outputs, targets)\n",
    "        loss.backward()\n",
    "        optimizer.step()\n",
    "        \n",
    "        # Get accuracy\n",
    "        total_loss += loss.item()\n",
    "        predicted = (outputs >= 0.5).float()  # Convert probabilities to 0 or 1\n",
    "        total += targets.size(0)\n",
    "        correct += (predicted == targets).sum().item()\n",
    "    \n",
    "        # Store predictions and labels for confusion matrix\n",
    "        all_preds.extend(predicted.tolist())\n",
    "        all_labels.extend(targets.tolist())\n",
    "        \n",
    "    accuracy = 100 * correct / total\n",
    "\n",
    "    # Optionally print the loss every few epochs\n",
    "    if epoch % 5 == 0:\n",
    "        print(f'Epoch {epoch+1}, Loss: {loss.item()}')\n",
    "        print(f\"Accuracy: {accuracy}%\")\n",
    "\n",
    "conf_matrix = confusion_matrix(all_labels, all_preds)"
   ]
  },
  {
   "cell_type": "code",
   "execution_count": 79,
   "metadata": {
    "tags": []
   },
   "outputs": [
    {
     "data": {
      "text/plain": [
       "array([[168, 126],\n",
       "       [ 63, 278]])"
      ]
     },
     "execution_count": 79,
     "metadata": {},
     "output_type": "execute_result"
    }
   ],
   "source": [
    "# Training confusion matrix\n",
    "conf_matrix"
   ]
  },
  {
   "cell_type": "code",
   "execution_count": 80,
   "metadata": {
    "tags": []
   },
   "outputs": [
    {
     "data": {
      "image/png": "[encoded data removed]",
      "text/plain": [
       "<Figure size 640x480 with 2 Axes>"
      ]
     },
     "metadata": {},
     "output_type": "display_data"
    }
   ],
   "source": [
    "# Optional: Visualizing the Training confusion matrix\n",
    "sns.heatmap(conf_matrix, annot=True, fmt='d', cmap='Blues')\n",
    "plt.xlabel('Predicted Labels')\n",
    "plt.ylabel('True Labels')\n",
    "plt.title('Training Confusion Matrix')\n",
    "plt.show()\n"
   ]
  },
  {
   "cell_type": "code",
   "execution_count": 81,
   "metadata": {},
   "outputs": [],
   "source": [
    "# Remove zeros from y_tests\n",
    "y_test = y_test.replace(-1, 0).astype(float)"
   ]
  },
  {
   "cell_type": "code",
   "execution_count": 82,
   "metadata": {
    "tags": []
   },
   "outputs": [],
   "source": [
    "def predict(model, data_loader):\n",
    "    model.eval()  # Set the model to evaluation mode\n",
    "    predictions = []\n",
    "    actual_labels = []\n",
    "    \n",
    "    with torch.no_grad():  \n",
    "        for inputs, labels in data_loader:\n",
    "            inputs = inputs.float()\n",
    "            #labels = labels.float()\n",
    "            \n",
    "            outputs = model(inputs)\n",
    "            #_, predicted = torch.max(outputs.data, 1)\n",
    "            predicted_labels = (outputs.squeeze() >= 0.5).long()  # Apply threshold and convert to long dtype\n",
    "\n",
    "            #outputs = outputs.squeeze()  # Adjusting dimensions if necessary\n",
    "            #print(predicted_labels)\n",
    "            #predicted_labels = (outputs >= 0.1).long()  # Applying threshold to convert to class labels\n",
    "            predictions.extend(predicted_labels.tolist())\n",
    "            actual_labels.extend(labels.tolist())\n",
    "    \n",
    "    return actual_labels, predictions\n"
   ]
  },
  {
   "cell_type": "code",
   "execution_count": 83,
   "metadata": {
    "tags": []
   },
   "outputs": [],
   "source": [
    "\n",
    "# Assuming test_loader is your DataLoader for the test set\n",
    "actual_labels, predictions = predict(model, test_loader)\n"
   ]
  },
  {
   "cell_type": "code",
   "execution_count": 84,
   "metadata": {
    "tags": []
   },
   "outputs": [],
   "source": [
    "conf_matrix = confusion_matrix(actual_labels, predictions)"
   ]
  },
  {
   "cell_type": "code",
   "execution_count": 85,
   "metadata": {
    "tags": []
   },
   "outputs": [
    {
     "data": {
      "text/plain": [
       "array([[ 89, 172],\n",
       "       [  8, 366]])"
      ]
     },
     "execution_count": 85,
     "metadata": {},
     "output_type": "execute_result"
    }
   ],
   "source": [
    "conf_matrix"
   ]
  },
  {
   "cell_type": "code",
   "execution_count": 86,
   "metadata": {
    "tags": []
   },
   "outputs": [
    {
     "data": {
      "image/png": "[encoded data removed]",
      "text/plain": [
       "<Figure size 640x480 with 2 Axes>"
      ]
     },
     "metadata": {},
     "output_type": "display_data"
    }
   ],
   "source": [
    "sns.heatmap(conf_matrix, annot=True, fmt='d', cmap='Blues')\n",
    "plt.xlabel('Predicted Labels')\n",
    "plt.ylabel('True Labels')\n",
    "plt.title('Confusion Matrix')\n",
    "plt.show()\n"
   ]
  },
  {
   "cell_type": "code",
   "execution_count": 87,
   "metadata": {
    "tags": []
   },
   "outputs": [
    {
     "name": "stdout",
     "output_type": "stream",
     "text": [
      "Precision: 0.6802973977695167\n",
      "Recall: 0.9786096256684492\n",
      "F1 Score: 0.8026315789473685\n"
     ]
    }
   ],
   "source": [
    "\n",
    "precision = precision_score(actual_labels, predictions)\n",
    "recall = recall_score(actual_labels, predictions)\n",
    "f1 = f1_score(actual_labels, predictions)\n",
    "\n",
    "print(f\"Precision: {precision}\")\n",
    "print(f\"Recall: {recall}\")\n",
    "print(f\"F1 Score: {f1}\")\n"
   ]
  },
  {
   "cell_type": "markdown",
   "metadata": {
    "user_expressions": []
   },
   "source": [
    "## Novelty Prediction"
   ]
  },
  {
   "cell_type": "code",
   "execution_count": 181,
   "metadata": {},
   "outputs": [],
   "source": [
    "# Only predicting validity and choosing non-embedding features\n",
    "#X_train = train.loc[:, [\"SBERT_cosine_sim\", \"Irrelevancy\", \"AveDistance\", \"contrad_prob_PtoC\",\"entail_prob_PtoC\",\"contrad_prob_CtoP\",\"entail_prob_CtoP\"]]\n",
    "                        #, \"Novelty-Confidence\"]]\n",
    "X_train = train.loc[:, [\"SBERT_cosine_sim\", \"Irrelevancy\", \"AveDistance\", \"entail_prob_PtoC\"]]\n",
    "y_train = train.loc[:, \"Novelty\"]\n",
    "#X_test = test.loc[:, [\"SBERT_cosine_sim\", \"Irrelevancy\", \"AveDistance\", \"contrad_prob_PtoC\",\"entail_prob_PtoC\",\t\"contrad_prob_CtoP\",\"entail_prob_CtoP\"]]\n",
    "                      #\"Novelty-Confidence\"]]\n",
    "X_test = test.loc[:, [\"SBERT_cosine_sim\", \"Irrelevancy\", \"AveDistance\",\"entail_prob_PtoC\"]]\n",
    "y_test = test.loc[:, \"Novelty\"]"
   ]
  },
  {
   "cell_type": "code",
   "execution_count": 182,
   "metadata": {},
   "outputs": [
    {
     "name": "stderr",
     "output_type": "stream",
     "text": [
      "/tmp/ipykernel_512249/1842579713.py:1: SettingWithCopyWarning: \n",
      "A value is trying to be set on a copy of a slice from a DataFrame\n",
      "\n",
      "See the caveats in the documentation: https://pandas.pydata.org/pandas-docs/stable/user_guide/indexing.html#returning-a-view-versus-a-copy\n",
      "  y_train[y_train == -1] = 0\n",
      "/tmp/ipykernel_512249/1842579713.py:2: SettingWithCopyWarning: \n",
      "A value is trying to be set on a copy of a slice from a DataFrame\n",
      "\n",
      "See the caveats in the documentation: https://pandas.pydata.org/pandas-docs/stable/user_guide/indexing.html#returning-a-view-versus-a-copy\n",
      "  y_test[y_test == -1] = 0\n"
     ]
    }
   ],
   "source": [
    "y_train[y_train == -1] = 0\n",
    "y_test[y_test == -1] = 0"
   ]
  },
  {
   "cell_type": "code",
   "execution_count": 183,
   "metadata": {},
   "outputs": [],
   "source": [
    "train_loader = preprocess_input(X_train, y_train, 32)\n",
    "test_loader = preprocess_input(X_test, y_test, 32)"
   ]
  },
  {
   "cell_type": "code",
   "execution_count": 208,
   "metadata": {
    "tags": []
   },
   "outputs": [],
   "source": [
    "class BinaryClassifierNovelty(nn.Module):\n",
    "    def __init__(self):\n",
    "        super(BinaryClassifierNovelty, self).__init__()\n",
    "        self.layer1 = nn.Linear(4, 6)\n",
    "        self.relu1 = nn.ReLU()\n",
    "        self.dropout1 = nn.Dropout(0.5)\n",
    "        #self.layer2 = nn.Linear(6, 6)\n",
    "        #self.relu2 = nn.ReLU()\n",
    "        #self.dropout2 = nn.Dropout(0.3)\n",
    "        #self.layer3 = nn.Linear(256, 128)\n",
    "        #self.relu3 = nn.ReLU()\n",
    "        #self.dropout3 = nn.Dropout(0.5)\n",
    "        self.output = nn.Linear(6, 1)\n",
    "        self.sigmoid = nn.Sigmoid()\n",
    "\n",
    "    def forward(self, x):\n",
    "        x = self.layer1(x)\n",
    "        x = self.relu1(x)\n",
    "        x = self.dropout1(x)\n",
    "        #x = self.layer2(x)\n",
    "        #x = self.relu2(x)\n",
    "        #x = self.dropout2(x)\n",
    "        #x = self.layer3(x)\n",
    "        #x = self.relu3(x)\n",
    "        #x = self.dropout3(x)\n",
    "        x = self.output(x)\n",
    "        x = self.sigmoid(x)\n",
    "        return x"
   ]
  },
  {
   "cell_type": "code",
   "execution_count": 213,
   "metadata": {},
   "outputs": [],
   "source": [
    "model = BinaryClassifierNovelty()\n",
    "loss_function = nn.BCELoss()\n",
    "optimizer = torch.optim.Adam(model.parameters(), lr=0.0001)"
   ]
  },
  {
   "cell_type": "code",
   "execution_count": null,
   "metadata": {},
   "outputs": [],
   "source": []
  },
  {
   "cell_type": "code",
   "execution_count": 214,
   "metadata": {
    "tags": []
   },
   "outputs": [
    {
     "name": "stdout",
     "output_type": "stream",
     "text": [
      "Epoch 1, Loss: 0.5698233842849731\n",
      "Accuracy: 32.0%\n",
      "Epoch 6, Loss: 0.46554872393608093\n",
      "Accuracy: 33.86666666666667%\n",
      "Epoch 11, Loss: 0.6278926134109497\n",
      "Accuracy: 41.333333333333336%\n",
      "Epoch 16, Loss: 0.5778884291648865\n",
      "Accuracy: 39.733333333333334%\n",
      "Epoch 21, Loss: 0.3639715611934662\n",
      "Accuracy: 41.6%\n",
      "Epoch 26, Loss: 0.5467908978462219\n",
      "Accuracy: 42.53333333333333%\n",
      "Epoch 31, Loss: 0.5138378739356995\n",
      "Accuracy: 48.666666666666664%\n",
      "Epoch 36, Loss: 0.5158456563949585\n",
      "Accuracy: 50.266666666666666%\n"
     ]
    }
   ],
   "source": [
    "epochs = 40\n",
    "for epoch in range(epochs):\n",
    "    # for each batch\n",
    "    model.train()  # Set model to training mode\n",
    "    total = 0\n",
    "    correct = 0\n",
    "    total_loss = 0\n",
    "    \n",
    "    all_preds = []\n",
    "    all_labels = []\n",
    "\n",
    "    for inputs, targets in train_loader:\n",
    "        inputs = inputs.float()\n",
    "        targets = targets.float()\n",
    "        optimizer.zero_grad()\n",
    "        outputs = model(inputs)\n",
    "        outputs = outputs.squeeze()  # Squeeze the outputs to remove the extra dimension\n",
    "        loss = loss_function(outputs, targets)\n",
    "        loss.backward()\n",
    "        optimizer.step()\n",
    "        \n",
    "        # Get accuracy\n",
    "        total_loss += loss.item()\n",
    "        predicted = (outputs >= 0.3).float()  # Convert probabilities to 0 or 1\n",
    "        total += targets.size(0)\n",
    "        correct += (predicted == targets).sum().item()\n",
    "    \n",
    "        # Store predictions and labels for confusion matrix\n",
    "        all_preds.extend(predicted.tolist())\n",
    "        all_labels.extend(targets.tolist())\n",
    "        \n",
    "    accuracy = 100 * correct / total\n",
    "\n",
    "    # Optionally print the loss every few epochs\n",
    "    if epoch % 5 == 0:\n",
    "        print(f'Epoch {epoch+1}, Loss: {loss.item()}')\n",
    "        print(f\"Accuracy: {accuracy}%\")\n",
    "\n",
    "conf_matrix = confusion_matrix(all_labels, all_preds)"
   ]
  },
  {
   "cell_type": "code",
   "execution_count": 215,
   "metadata": {
    "tags": []
   },
   "outputs": [
    {
     "data": {
      "image/png": "[encoded data removed]",
      "text/plain": [
       "<Figure size 640x480 with 2 Axes>"
      ]
     },
     "metadata": {},
     "output_type": "display_data"
    }
   ],
   "source": [
    "# Optional: Visualizing the Training confusion matrix\n",
    "sns.heatmap(conf_matrix, annot=True, fmt='d', cmap='Blues')\n",
    "plt.xlabel('Predicted Labels')\n",
    "plt.ylabel('True Labels')\n",
    "plt.title('Training Confusion Matrix')\n",
    "plt.show()\n"
   ]
  },
  {
   "cell_type": "code",
   "execution_count": 216,
   "metadata": {
    "tags": []
   },
   "outputs": [
    {
     "data": {
      "text/plain": [
       "0.0    294\n",
       "1.0    226\n",
       "Name: Novelty, dtype: int64"
      ]
     },
     "execution_count": 216,
     "metadata": {},
     "output_type": "execute_result"
    }
   ],
   "source": [
    "y_test.value_counts()"
   ]
  },
  {
   "cell_type": "code",
   "execution_count": 217,
   "metadata": {
    "tags": []
   },
   "outputs": [
    {
     "data": {
      "text/plain": [
       "BinaryClassifierNovelty(\n",
       "  (layer1): Linear(in_features=4, out_features=6, bias=True)\n",
       "  (relu1): ReLU()\n",
       "  (dropout1): Dropout(p=0.5, inplace=False)\n",
       "  (output): Linear(in_features=6, out_features=1, bias=True)\n",
       "  (sigmoid): Sigmoid()\n",
       ")"
      ]
     },
     "execution_count": 217,
     "metadata": {},
     "output_type": "execute_result"
    }
   ],
   "source": [
    "model"
   ]
  },
  {
   "cell_type": "code",
   "execution_count": 218,
   "metadata": {
    "tags": []
   },
   "outputs": [],
   "source": [
    "actual_labels, predictions = predict(model, test_loader)"
   ]
  },
  {
   "cell_type": "code",
   "execution_count": 219,
   "metadata": {
    "tags": []
   },
   "outputs": [
    {
     "data": {
      "image/png": "[encoded data removed]",
      "text/plain": [
       "<Figure size 640x480 with 2 Axes>"
      ]
     },
     "metadata": {},
     "output_type": "display_data"
    }
   ],
   "source": [
    "conf_matrix = confusion_matrix(actual_labels, predictions)\n",
    "sns.heatmap(conf_matrix, annot=True, fmt='d', cmap='Blues')\n",
    "plt.xlabel('Predicted Labels')\n",
    "plt.ylabel('True Labels')\n",
    "plt.title('Confusion Matrix')\n",
    "plt.show()\n",
    "\n"
   ]
  },
  {
   "cell_type": "code",
   "execution_count": 220,
   "metadata": {
    "tags": []
   },
   "outputs": [
    {
     "name": "stdout",
     "output_type": "stream",
     "text": [
      "Precision: 0.0\n",
      "Recall: 0.0\n",
      "F1 Score: 0.0\n"
     ]
    },
    {
     "name": "stderr",
     "output_type": "stream",
     "text": [
      "/usr/local/linux/mambaforge-3.11/lib/python3.11/site-packages/sklearn/metrics/_classification.py:1334: UndefinedMetricWarning: Precision is ill-defined and being set to 0.0 due to no predicted samples. Use `zero_division` parameter to control this behavior.\n",
      "  _warn_prf(average, modifier, msg_start, len(result))\n"
     ]
    }
   ],
   "source": [
    "\n",
    "precision = precision_score(actual_labels, predictions)\n",
    "recall = recall_score(actual_labels, predictions)\n",
    "f1 = f1_score(actual_labels, predictions)\n",
    "\n",
    "print(f\"Precision: {precision}\")\n",
    "print(f\"Recall: {recall}\")\n",
    "print(f\"F1 Score: {f1}\")\n"
   ]
  },
  {
   "cell_type": "code",
   "execution_count": null,
   "metadata": {},
   "outputs": [],
   "source": []
  },
  {
   "cell_type": "code",
   "execution_count": null,
   "metadata": {},
   "outputs": [],
   "source": []
  }
 ],
 "metadata": {
  "kernelspec": {
   "display_name": "Python 3 (ipykernel)",
   "language": "python",
   "name": "python3"
  },
  "language_info": {
   "codemirror_mode": {
    "name": "ipython",
    "version": 3
   },
   "file_extension": ".py",
   "mimetype": "text/x-python",
   "name": "python",
   "nbconvert_exporter": "python",
   "pygments_lexer": "ipython3",
   "version": "3.11.0"
  }
 },
 "nbformat": 4,
 "nbformat_minor": 4
}
